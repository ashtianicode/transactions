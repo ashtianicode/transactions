{
 "cells": [
  {
   "cell_type": "markdown",
   "metadata": {},
   "source": [
    "## Connections and cursor"
   ]
  },
  {
   "cell_type": "code",
   "execution_count": 1,
   "metadata": {},
   "outputs": [],
   "source": [
    "# %reload_ext autoreload\n",
    "# %autoreload 2\n",
    "# from sql_tables import *"
   ]
  },
  {
   "cell_type": "code",
   "execution_count": 2,
   "metadata": {},
   "outputs": [],
   "source": [
    "import psycopg2\n",
    "from pyspark.sql import SparkSession"
   ]
  },
  {
   "cell_type": "code",
   "execution_count": 3,
   "metadata": {},
   "outputs": [],
   "source": [
    "spark = SparkSession.builder \\\n",
    "    .master(\"local[*]\") \\\n",
    "    .appName(\"load csv into postgres\") \\\n",
    "    .getOrCreate()"
   ]
  },
  {
   "cell_type": "markdown",
   "metadata": {},
   "source": [
    "## Postgres functions"
   ]
  },
  {
   "cell_type": "code",
   "execution_count": 2,
   "metadata": {},
   "outputs": [],
   "source": [
    "def cur_for_db(db_name):\n",
    "    conn = psycopg2.connect(\n",
    "    host = \"localhost\",\n",
    "    database = db_name,\n",
    "    user = \"taha\",\n",
    "    password = \"1234\")\n",
    "    \n",
    "    conn.autocommit = True\n",
    "    cur = conn.cursor()\n",
    "    return cur\n",
    "\n",
    "\n",
    "def create_db(cur,db_name):\n",
    "    cur.execute(\"SELECT 1 FROM pg_catalog.pg_database WHERE datname = '%s'\"%db_name)\n",
    "    exists = cur.fetchone()\n",
    "    if not exists:\n",
    "        cur.execute('CREATE DATABASE %s'%db_name)\n",
    "\n",
    "def create_schema(cur,schema_name):\n",
    "    cur.execute(\"SELECT schema_name FROM information_schema.schemata WHERE schema_name = '%s';\"%schema_name)\n",
    "    exists = cur.fetchone()\n",
    "    if not exists:\n",
    "        cur.execute('CREATE SCHEMA %s'%schema_name)\n",
    "\n",
    "\n",
    "def create_table(cur,table_name):\n",
    "    cur.execute(eval(\"CREATE_\"+table_name))\n",
    "    \n",
    "    \n",
    "def insert_postgres(df,table_name,schema_name):\n",
    "    insert_values = [tuple(x) for x in df.collect()]\n",
    "    records_list_template = ','.join(['%s'] * len(insert_values) )\n",
    "    insert_query = eval(\"INSERT_\"+table_name).format(schema_name,table_name,records_list_template)\n",
    "\n",
    "    return insert_query, insert_values\n",
    "\n",
    "\n",
    "    "
   ]
  },
  {
   "cell_type": "markdown",
   "metadata": {},
   "source": [
    "## sql queries "
   ]
  },
  {
   "cell_type": "code",
   "execution_count": 3,
   "metadata": {},
   "outputs": [],
   "source": [
    "# Create Table Queries\n",
    "\n",
    "CREATE_account = \"\"\"CREATE TABLE IF NOT EXISTS accounts_data.account\n",
    "                        (\n",
    "                            account_id  integer PRIMARY KEY,\n",
    "                            district_id integer,\n",
    "                            frequency   text,\n",
    "                            date        text\n",
    "                        );\n",
    "                        \n",
    "                    alter table accounts_data.account owner to taha;\n",
    "        \n",
    "                \"\"\"\n",
    "\n",
    "CREATE_transaction = \"\"\"CREATE TABLE IF NOT EXISTS accounts_data.transaction\n",
    "                            (\n",
    "                                trans_id integer PRIMARY KEY,\n",
    "                                account_id integer,\n",
    "                                date text,\n",
    "                                type text,\n",
    "                                operation text,\n",
    "                                amount numeric,\n",
    "                                balance numeric,\n",
    "                                k_symbol text,\n",
    "                                bank text,\n",
    "                                account integer\n",
    "                            );\n",
    "\n",
    "                            alter table accounts_data.transaction owner to taha;\n",
    "                \"\"\"\n",
    "\n",
    "# Insert Queries\n",
    "INSERT_account = \"INSERT INTO {}.{} (account_id, district_id, frequency, date) VALUES {} ON CONFLICT DO NOTHING;\"\n",
    "\n",
    "INSERT_transaction = \"INSERT INTO {}.{} (trans_id,account_id,date,type,operation,amount,balance,k_symbol,bank,account) VALUES {} ON CONFLICT DO NOTHING;\"\n",
    "\n",
    "\n",
    "# Transformations\n",
    "# TODO for later\n",
    "TRANSFORM_transaction =\"\"\"\n",
    "\n",
    "UPDATE flinks.accounts_data.transaction\n",
    "SET date =  to_date(cast(date AS text),'YYMMDD');\n",
    "\n",
    "\n",
    "\n",
    "UPDATE flinks.accounts_data.transaction\n",
    "SET type =  CASE\n",
    "                WHEN type='PRIJEM' THEN 'credit'\n",
    "                WHEN type='VYDAJ' THEN 'debit'\n",
    "                WHEN type='credit' OR type='debit' THEN type\n",
    "                ELSE 'unknown_type'\n",
    "            END\n",
    ";\n",
    "\n",
    "\n",
    "\n",
    "UPDATE flinks.accounts_data.transaction\n",
    "SET type =  CASE\n",
    "                WHEN type='VYBER KARTOU' THEN 'credit_card_withdrawl'\n",
    "                WHEN type='VKLAD' THEN 'credit_in_cash'\n",
    "                WHEN type='PREVOD Z UCTU' THEN 'collection_from_another_bank'\n",
    "                WHEN type='VYBER' THEN 'withdrawl_in_cash'\n",
    "                WHEN type='PREVOD NA UCET' THEN 'remittance_to_another_bank'\n",
    "                WHEN    type='credit_card_withdrawl'\n",
    "                     OR type='credit_in_cash'\n",
    "                     OR type='collection_from_another_bank'\n",
    "                     OR type='withdrawl_in_cash'\n",
    "                     OR type='remittance_to_another_bank'\n",
    "                THEN type\n",
    "                ELSE 'unknown_type'\n",
    "            END\n",
    ";\n",
    "\n",
    "\"\"\"\n",
    "\n",
    "\n",
    "\n",
    "\n",
    "\n"
   ]
  },
  {
   "cell_type": "markdown",
   "metadata": {},
   "source": [
    "## Create db, schema, tables"
   ]
  },
  {
   "cell_type": "code",
   "execution_count": 7,
   "metadata": {},
   "outputs": [],
   "source": [
    "posgres_cur = cur_for_db(\"postgres\")             \n",
    "\n",
    "create_db(posgres_cur,\"flinks\")\n",
    "\n",
    "flinks_cur = cur_for_db(\"flinks\")\n",
    "\n",
    "create_schema(flinks_cur,\"accounts_data\")\n",
    "\n",
    "\n",
    "tables = [\"account\",\"transaction\"]\n",
    "for table in tables:\n",
    "    create_table(flinks_cur,table)\n",
    "    "
   ]
  },
  {
   "cell_type": "markdown",
   "metadata": {},
   "source": [
    "##  Read csv  files with spark and write them to postgres"
   ]
  },
  {
   "cell_type": "code",
   "execution_count": 12,
   "metadata": {},
   "outputs": [],
   "source": [
    "import os\n",
    "\n",
    "for table in tables:\n",
    "    csv_file = os.path.join(os.path.abspath(''), \"data/{}.csv\".format(table))\n",
    "    df = spark.read.format(\"csv\").options(header='true', inferschema='true').load(csv_file).limit(10)\n",
    "    \n",
    "    insert_query, insert_values = insert_postgres(df,table,\"accounts_data\")\n",
    "    flinks_cur.execute(insert_query, insert_values)"
   ]
  },
  {
   "cell_type": "markdown",
   "metadata": {},
   "source": [
    "## Transformations and cleaning\n",
    "TODO for later: load from postgres and do the cleaning here, instead of enrichment notebook"
   ]
  },
  {
   "cell_type": "code",
   "execution_count": 18,
   "metadata": {},
   "outputs": [],
   "source": [
    "import pandas as pd\n",
    "\n",
    "\n",
    "conn = psycopg2.connect(\n",
    "    host = \"localhost\",\n",
    "    database = \"flinks\",\n",
    "    user = \"taha\",\n",
    "    password = \"1234\")\n",
    "\n",
    "account_df = pd.read_sql_query('select * from accounts_data.account',con=conn)\n",
    "transaction_df = pd.read_sql_query('select * from accounts_data.transaction',con=conn)"
   ]
  },
  {
   "cell_type": "code",
   "execution_count": null,
   "metadata": {},
   "outputs": [],
   "source": []
  },
  {
   "cell_type": "code",
   "execution_count": null,
   "metadata": {},
   "outputs": [],
   "source": []
  },
  {
   "cell_type": "markdown",
   "metadata": {},
   "source": [
    "## df to json \n",
    "TODO for later: do json transformations here, before implementing it for flask"
   ]
  },
  {
   "cell_type": "code",
   "execution_count": 33,
   "metadata": {},
   "outputs": [
    {
     "data": {
      "text/plain": [
       "'[{\"trans_id\": 695247, \"account_id\": 2378, \"date\": \"930101\", \"type\": \"PRIJEM\", \"operation\": \"VKLAD\", \"amount\": 700.0, \"balance\": 700.0, \"k_symbol\": null, \"bank\": null, \"account\": null}, {\"trans_id\": 171812, \"account_id\": 576, \"date\": \"930101\", \"type\": \"PRIJEM\", \"operation\": \"VKLAD\", \"amount\": 900.0, \"balance\": 900.0, \"k_symbol\": null, \"bank\": null, \"account\": null}, {\"trans_id\": 207264, \"account_id\": 704, \"date\": \"930101\", \"type\": \"PRIJEM\", \"operation\": \"VKLAD\", \"amount\": 1000.0, \"balance\": 1000.0, \"k_symbol\": null, \"bank\": null, \"account\": null}]'"
      ]
     },
     "execution_count": 33,
     "metadata": {},
     "output_type": "execute_result"
    }
   ],
   "source": [
    "import simplejson as json\n",
    "import psycopg2\n",
    "\n",
    "\n",
    "conn = psycopg2.connect(\n",
    "host = \"localhost\",\n",
    "database = \"flinks\",\n",
    "user = \"taha\",\n",
    "password = \"1234\")\n",
    "\n",
    "conn.autocommit = True\n",
    "cur = conn.cursor()\n",
    "    \n",
    "\n",
    "\n",
    "def query_db(query, args=()):\n",
    "    cur.execute(query, args)\n",
    "    r = [dict((cur.description[i][0], value) \\\n",
    "               for i, value in enumerate(row)) for row in cur.fetchall()]\n",
    "    cur.connection.close()\n",
    "    return r[0] if r else None\n",
    "\n",
    "\n",
    "my_query = query_db(\"select * from accounts_data.transaction limit %s\", (3,))\n",
    "json_output = json.dumps(my_query, use_decimal=True)\n",
    "json_output\n"
   ]
  },
  {
   "cell_type": "code",
   "execution_count": null,
   "metadata": {},
   "outputs": [],
   "source": []
  },
  {
   "cell_type": "code",
   "execution_count": null,
   "metadata": {},
   "outputs": [],
   "source": []
  }
 ],
 "metadata": {
  "kernelspec": {
   "display_name": "Python 3.8.3 64-bit",
   "language": "python",
   "name": "python38364bit5c9b191bcdb046db856cd4d4d4248fd9"
  },
  "language_info": {
   "codemirror_mode": {
    "name": "ipython",
    "version": 3
   },
   "file_extension": ".py",
   "mimetype": "text/x-python",
   "name": "python",
   "nbconvert_exporter": "python",
   "pygments_lexer": "ipython3",
   "version": "3.8.3"
  }
 },
 "nbformat": 4,
 "nbformat_minor": 4
}
